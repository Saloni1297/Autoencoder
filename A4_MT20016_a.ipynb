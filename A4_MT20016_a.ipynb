{
  "nbformat": 4,
  "nbformat_minor": 0,
  "metadata": {
    "colab": {
      "name": "A4_MT20016_a.ipynb",
      "provenance": [],
      "collapsed_sections": [
        "Zw77fDztCKF3",
        "p_dY-2VcSd5K",
        "tVzCTrtZUlBm",
        "6pOwqSM5W2Rb"
      ],
      "toc_visible": true
    },
    "kernelspec": {
      "name": "python3",
      "display_name": "Python 3"
    },
    "language_info": {
      "name": "python"
    }
  },
  "cells": [
    {
      "cell_type": "markdown",
      "metadata": {
        "id": "Zw77fDztCKF3"
      },
      "source": [
        "# **Importing Library**"
      ]
    },
    {
      "cell_type": "code",
      "metadata": {
        "id": "hyer3H-XCP3A"
      },
      "source": [
        "#importing libraries\n",
        "import numpy as np\n",
        "import matplotlib.pyplot as plt\n",
        "import pandas as pd\n",
        "from scipy.linalg import eigh\n",
        "import seaborn as sn\n",
        "import random\n",
        "import math\n",
        "import gzip\n",
        "import struct\n",
        "from array import array\n",
        "from os.path  import join\n",
        "import matplotlib.pyplot as plt\n",
        "import numpy as np\n",
        "import math\n",
        "from sklearn import preprocessing\n",
        "from scipy.stats import multivariate_normal\n",
        "from sklearn.gaussian_process import GaussianProcessRegressor\n",
        "from sklearn.gaussian_process.kernels import RBF, ConstantKernel as C\n",
        "from sklearn.model_selection import train_test_split\n",
        "from autograd import numpy as np\n",
        "from autograd import grad"
      ],
      "execution_count": null,
      "outputs": []
    },
    {
      "cell_type": "markdown",
      "metadata": {
        "id": "p_dY-2VcSd5K"
      },
      "source": [
        "# **Generate 1000 multivariate gaussian points**"
      ]
    },
    {
      "cell_type": "code",
      "metadata": {
        "id": "EZB1-ginS8xQ"
      },
      "source": [
        "mean = [0,0,0]\n",
        "cov = [[1,0.8,0.8],[0.8,1,0.8],[0.8,0.8,1]]"
      ],
      "execution_count": null,
      "outputs": []
    },
    {
      "cell_type": "code",
      "metadata": {
        "id": "GBwqdACESkbF"
      },
      "source": [
        "np.random.seed(0)\n",
        "x = np.random.multivariate_normal(mean,cov,1000)"
      ],
      "execution_count": null,
      "outputs": []
    },
    {
      "cell_type": "code",
      "metadata": {
        "colab": {
          "base_uri": "https://localhost:8080/"
        },
        "id": "GtLc_JCATfj5",
        "outputId": "2b468db0-0f3e-4e70-82c5-083f0cc86913"
      },
      "source": [
        "x.shape"
      ],
      "execution_count": null,
      "outputs": [
        {
          "output_type": "execute_result",
          "data": {
            "text/plain": [
              "(1000, 3)"
            ]
          },
          "metadata": {
            "tags": []
          },
          "execution_count": 4
        }
      ]
    },
    {
      "cell_type": "markdown",
      "metadata": {
        "id": "tVzCTrtZUlBm"
      },
      "source": [
        "# **Normalize the data so that value in each dimension lies in [0,1] and a sigmoid can be used in the output layer.**"
      ]
    },
    {
      "cell_type": "code",
      "metadata": {
        "id": "egwye75_Utge"
      },
      "source": [
        "\n",
        "normalized_x = 1/(1 + np.exp(-x))   #sigmoid normalization"
      ],
      "execution_count": null,
      "outputs": []
    },
    {
      "cell_type": "code",
      "metadata": {
        "colab": {
          "base_uri": "https://localhost:8080/"
        },
        "id": "Rwdoz-mDU_sw",
        "outputId": "9d1e06c5-be3f-4154-9d92-ac71915b18fa"
      },
      "source": [
        "normalized_x"
      ],
      "execution_count": null,
      "outputs": [
        {
          "output_type": "execute_result",
          "data": {
            "text/plain": [
              "array([[0.21672429, 0.12482878, 0.15519875],\n",
              "       [0.07995126, 0.07597702, 0.21129141],\n",
              "       [0.28451506, 0.30623601, 0.28628367],\n",
              "       ...,\n",
              "       [0.78109511, 0.7381197 , 0.79107501],\n",
              "       [0.34767081, 0.31222299, 0.62837217],\n",
              "       [0.53735232, 0.64043782, 0.45274214]])"
            ]
          },
          "metadata": {
            "tags": []
          },
          "execution_count": 8
        }
      ]
    },
    {
      "cell_type": "markdown",
      "metadata": {
        "id": "6pOwqSM5W2Rb"
      },
      "source": [
        "# **Take 800 samples for training and call the remaining samples test set.**"
      ]
    },
    {
      "cell_type": "code",
      "metadata": {
        "id": "LQbUJffWXLps"
      },
      "source": [
        "x_train = normalized_x[:800]\n",
        "x_test = normalized_x[800:]"
      ],
      "execution_count": null,
      "outputs": []
    },
    {
      "cell_type": "code",
      "metadata": {
        "colab": {
          "base_uri": "https://localhost:8080/"
        },
        "id": "jtq8HQGko5kb",
        "outputId": "b1b258c3-f80a-4c37-fd7f-a7918573eaa7"
      },
      "source": [
        "len(x_train)"
      ],
      "execution_count": null,
      "outputs": [
        {
          "output_type": "execute_result",
          "data": {
            "text/plain": [
              "800"
            ]
          },
          "metadata": {
            "tags": []
          },
          "execution_count": 10
        }
      ]
    },
    {
      "cell_type": "markdown",
      "metadata": {
        "id": "PZLfrKGnXz-f"
      },
      "source": [
        "# **Implement an autoencoder with one input layer, one hidden layer, and one output layer. Train the model using data generated in part 1.**"
      ]
    },
    {
      "cell_type": "code",
      "metadata": {
        "id": "Y4zhHKL-gQ2F"
      },
      "source": [
        "def print_graph(x, y, num):\n",
        "  lst = []\n",
        "  for i in range(num):\n",
        "    lst.append(i)\n",
        "  plt.plot(lst,x,'red',label=\"Train Loss\")\n",
        "  plt.plot(lst,y,'blue',label=\"Test Loss\")\n",
        "  plt.xlabel(\"Number of iterations/epochs\")\n",
        "  plt.ylabel(\"Losses\")\n",
        "  plt.legend()\n",
        "  plt.show()"
      ],
      "execution_count": null,
      "outputs": []
    },
    {
      "cell_type": "code",
      "metadata": {
        "id": "QDLuwEgRQVPX"
      },
      "source": [
        "def print_loss(x,y,num):\n",
        "  for i in range(num):\n",
        "    print(f\"train loss : {x[i]} , test_loss : {y[i]}\")\n"
      ],
      "execution_count": null,
      "outputs": []
    },
    {
      "cell_type": "code",
      "metadata": {
        "id": "5YQCOTXerAnw"
      },
      "source": [
        "#sigmoid \n",
        "def sigmoid(x):\n",
        "  z = 1/(1 + np.exp(-x))\n",
        "  return z\n",
        "\n",
        "#derivative of sigmoid\n",
        "def sigmoid_dev(x):\n",
        "  z = sigmoid(x)\n",
        "  return (z*(1-z))\n",
        "\n",
        "\n"
      ],
      "execution_count": null,
      "outputs": []
    },
    {
      "cell_type": "code",
      "metadata": {
        "id": "lFRsBOJfMUTj"
      },
      "source": [
        "def update_weights(W,w,b,c,i,n):\n",
        "  a1 = np.dot(i,W)+b  #1x2\n",
        "  #print(\"a1\",a1.shape)\n",
        "  h = sigmoid(a1) #1x2\n",
        "  #print(\"h\",h.shape)\n",
        "  a2 = np.dot(h,w)+c #1x3\n",
        "  #print(\"a2\",a2.shape)\n",
        "  x = sigmoid(a2)  #1x3\n",
        "  #print(\"x\",x.shape)\n",
        "  diff = (1-sigmoid(a2))\n",
        "  t = np.dot(sigmoid(a2),diff.T)\n",
        "  a2 = np.reshape(a2,(-1,3))\n",
        "  e_a2 = t*(i-x)*(-2)   #1x3\n",
        "  #print(\"e_a2\",e_a2.shape)\n",
        "  h = np.reshape(h, (-1, 2))\n",
        "  e_a2 = np.reshape(e_a2,(-1,3)) \n",
        "  ww = w-n*np.dot(h.T,e_a2)   #2x3\n",
        "  #print(\"ww\",ww.shape)\n",
        "  cc = c-n*e_a2 #1x3\n",
        "  #print(\"c\",cc.shape)\n",
        "  h = np.reshape(h,(2,-1))\n",
        "  e_h = np.dot(w,e_a2.T)  #2x1\n",
        "  #print(\"e_h\",e_h.shape)\n",
        "  diff1 = (1-sigmoid(a1))\n",
        "  t1 = np.dot(sigmoid(a1),diff1.T)\n",
        "  a1 = np.reshape(a1,(-1,2))\n",
        "  e_a1 = t1*e_h.T   #1x2\n",
        "  #print(\"e_a1\",e_a1.shape)\n",
        "  i = np.reshape(i,(-1,3))\n",
        "  WW = W-n*(i.T*e_a1)  #3x2\n",
        "  #print(\"WW\",WW.shape)\n",
        "  bb = b - e_a1  #1X2\n",
        "  #print(\"bb\",bb.shape)\n",
        "  return WW,ww,bb,cc\n",
        "\n",
        "\n",
        "# i = x_train[0]\n",
        "# W,w,b,c = update_weights(W,w,b,c,i,n)\n"
      ],
      "execution_count": null,
      "outputs": []
    },
    {
      "cell_type": "code",
      "metadata": {
        "id": "mQhElgKxuvMY"
      },
      "source": [
        "def forward_backward_pass(W,w,b,c,n,i):\n",
        "  a1 = np.dot(i,W)+b  #1x2\n",
        "  h = sigmoid(a1) #1x2\n",
        "  a2 = np.dot(h,w)+c #1x3\n",
        "  x = sigmoid(a2)  #1x3\n",
        "  diff = (-2)*(i-x)\n",
        "  t = sigmoid_dev(a2)\n",
        "  e_a2 = t*diff #1x3\n",
        "  h = np.reshape(h, (-1, 2))\n",
        "  e_a2 = np.reshape(e_a2,(-1,3)) \n",
        "  ww = w-n*np.dot(h.T,e_a2)   #2x3\n",
        "  cc = c-n*e_a2 #1x3\n",
        "  h = np.reshape(h,(2,-1))\n",
        "  e_h = np.dot(w,e_a2.T)  #2x1\n",
        "  t1 = sigmoid_dev(a1)\n",
        "  a1 = np.reshape(a1,(-1,2))\n",
        "  e_a1 = t1*e_h.T   #1x2\n",
        "  i = np.reshape(i,(-1,3))\n",
        "  WW = W-n*(i.T*e_a1)  #3x2\n",
        "  bb = b-n*e_a1  #1X2\n",
        "  return WW,ww,bb,cc,x\n",
        "\n",
        "\n"
      ],
      "execution_count": null,
      "outputs": []
    },
    {
      "cell_type": "code",
      "metadata": {
        "id": "OnT1_PYlvKT_"
      },
      "source": [
        "def forward_pass(W,w,b,c,i):\n",
        "  a1 = np.dot(i,W)+b  #1x2\n",
        "  h = sigmoid(a1) #1x2\n",
        "  a2 = np.dot(h,w)+c #1x3\n",
        "  x = sigmoid(a2)  #1x3\n",
        "  return a1,h,a2,x\n"
      ],
      "execution_count": null,
      "outputs": []
    },
    {
      "cell_type": "code",
      "metadata": {
        "id": "k8V8lbAML_Kh"
      },
      "source": [
        "def cal_test_train_loss(W,w,b,c,x_train,x_test,epochs,n):\n",
        "  train = []\n",
        "  test = []\n",
        "  for j in range(epochs):\n",
        "    train_loss = 0.0\n",
        "    test_loss = 0.0\n",
        "    for i in x_train:\n",
        "      i = np.reshape(i,(-1,3))\n",
        "      W,w,b,c,x = forward_backward_pass(W,w,b,c,n,i)\n",
        "      train_loss += np.sum((i-x)**2)\n",
        "    train.append(train_loss)\n",
        "\n",
        "   \n",
        "    for k in x_test:\n",
        "      k = np.reshape(k,(-1,3))\n",
        "      a1,h,a2,x = forward_pass(W,w,b,c,k)\n",
        "      test_loss += np.sum((k-x)**2)\n",
        "    test.append(test_loss)\n",
        "\n",
        "  return train,test\n"
      ],
      "execution_count": null,
      "outputs": []
    },
    {
      "cell_type": "code",
      "metadata": {
        "colab": {
          "base_uri": "https://localhost:8080/",
          "height": 1000
        },
        "id": "IhLmJLUIr4Vo",
        "outputId": "18e1e3ef-5767-420c-97fc-198623695202"
      },
      "source": [
        "#intial values\n",
        "b = [0.01, 0.01]\n",
        "b = np.array(b)\n",
        "W = [[0.01,0.02],[0.01,0.02],[0.01,0.02]]\n",
        "W = np.array(W)\n",
        "w = [[0.01,0.02,0.03],[0.01,0.02,0.03]]\n",
        "w = np.array(w)\n",
        "c = [0.02,0.02,0.02]\n",
        "c = np.array(c)\n",
        "n = 0.1\n",
        "epochs = 200\n",
        "diff_train,diff_test = cal_test_train_loss(W,w,b,c,x_train,x_test,epochs,n)\n",
        "print_loss(diff_train,diff_test,epochs)\n",
        "print_graph(diff_train,diff_test,epochs)\n"
      ],
      "execution_count": null,
      "outputs": [
        {
          "output_type": "stream",
          "text": [
            "train loss : 100.59466248540429 , test_loss : 22.71415480202921\n",
            "train loss : 100.52536459217379 , test_loss : 22.692330572198063\n",
            "train loss : 100.29279664996415 , test_loss : 22.5748927662136\n",
            "train loss : 99.04562742780318 , test_loss : 22.01132839064522\n",
            "train loss : 94.14569263006123 , test_loss : 20.187099796321792\n",
            "train loss : 80.98573672219159 , test_loss : 15.891535430230356\n",
            "train loss : 56.28835968449856 , test_loss : 9.659844880851074\n",
            "train loss : 32.49919078514522 , test_loss : 5.676239561089266\n",
            "train loss : 21.00497533274131 , test_loss : 4.236234877463098\n",
            "train loss : 17.171133469820685 , test_loss : 3.819987258129053\n",
            "train loss : 16.019727427648245 , test_loss : 3.7080223200463034\n",
            "train loss : 15.6654553371574 , test_loss : 3.6772960330162645\n",
            "train loss : 15.540997519007785 , test_loss : 3.6666078530149684\n",
            "train loss : 15.484214692532813 , test_loss : 3.660358947397922\n",
            "train loss : 15.448847229455101 , test_loss : 3.654977061247841\n",
            "train loss : 15.421304932600508 , test_loss : 3.649814277905477\n",
            "train loss : 15.397285063946045 , test_loss : 3.6448251072218145\n",
            "train loss : 15.375229172625717 , test_loss : 3.6400365797308747\n",
            "train loss : 15.354465661503205 , test_loss : 3.63545715840746\n",
            "train loss : 15.334654869854127 , test_loss : 3.6310766973629063\n",
            "train loss : 15.31560425818263 , test_loss : 3.6268769932568508\n",
            "train loss : 15.297196131558614 , test_loss : 3.622838668868248\n",
            "train loss : 15.279354320814896 , test_loss : 3.6189442208196594\n",
            "train loss : 15.262026850131821 , test_loss : 3.6151788952224773\n",
            "train loss : 15.245176258381033 , test_loss : 3.6115305948122955\n",
            "train loss : 15.228773981970404 , test_loss : 3.607989453621545\n",
            "train loss : 15.212797020334065 , test_loss : 3.6045473639858026\n",
            "train loss : 15.19722592506809 , test_loss : 3.6011975621516203\n",
            "train loss : 15.182043571333784 , test_loss : 3.5979342985150566\n",
            "train loss : 15.167234397889015 , test_loss : 3.5947525870730734\n",
            "train loss : 15.152783930930354 , test_loss : 3.5916480192327676\n",
            "train loss : 15.138678481392128 , test_loss : 3.588616626595535\n",
            "train loss : 15.12490494905618 , test_loss : 3.5856547797851053\n",
            "train loss : 15.111450692808765 , test_loss : 3.582759113362222\n",
            "train loss : 15.09830344200261 , test_loss : 3.579926469486847\n",
            "train loss : 15.085451233372366 , test_loss : 3.5771538550370026\n",
            "train loss : 15.072882363770232 , test_loss : 3.5744384084074983\n",
            "train loss : 15.060585352585449 , test_loss : 3.5717773732980778\n",
            "train loss : 15.048548909950892 , test_loss : 3.5691680775687598\n",
            "train loss : 15.036761908243335 , test_loss : 3.5666079157796187\n",
            "train loss : 15.025213355263158 , test_loss : 3.564094334411212\n",
            "train loss : 15.01389236803732 , test_loss : 3.561624819028619\n",
            "train loss : 15.002788146537014 , test_loss : 3.5591968828408564\n",
            "train loss : 14.991889946820955 , test_loss : 3.5568080562416644\n",
            "train loss : 14.981187053251476 , test_loss : 3.554455877013829\n",
            "train loss : 14.970668749510704 , test_loss : 3.5521378809481985\n",
            "train loss : 14.96032428819348 , test_loss : 3.5498515926783294\n",
            "train loss : 14.950142858775878 , test_loss : 3.547594516567406\n",
            "train loss : 14.940113553768631 , test_loss : 3.5453641275096293\n",
            "train loss : 14.930225332862543 , test_loss : 3.543157861526057\n",
            "train loss : 14.920466984864548 , test_loss : 3.540973106046946\n",
            "train loss : 14.910827087207513 , test_loss : 3.53880718978005\n",
            "train loss : 14.901293962797892 , test_loss : 3.5366573720681416\n",
            "train loss : 14.891855633940256 , test_loss : 3.5345208316396692\n",
            "train loss : 14.882499773048995 , test_loss : 3.5323946546545213\n",
            "train loss : 14.873213649823134 , test_loss : 3.530275821942204\n",
            "train loss : 14.863984074520722 , test_loss : 3.5281611953229755\n",
            "train loss : 14.854797336923001 , test_loss : 3.526047502893069\n",
            "train loss : 14.84563914052438 , test_loss : 3.523931323143207\n",
            "train loss : 14.836494531421828 , test_loss : 3.5218090677650706\n",
            "train loss : 14.82734782130429 , test_loss : 3.5196769629826976\n",
            "train loss : 14.818182503856379 , test_loss : 3.5175310292246906\n",
            "train loss : 14.808981163791978 , test_loss : 3.5153670589283643\n",
            "train loss : 14.799725377614834 , test_loss : 3.5131805922374797\n",
            "train loss : 14.790395605067014 , test_loss : 3.5109668903211415\n",
            "train loss : 14.780971070065494 , test_loss : 3.5087209060010904\n",
            "train loss : 14.771429629738986 , test_loss : 3.5064372513279287\n",
            "train loss : 14.761747629956563 , test_loss : 3.5041101616922927\n",
            "train loss : 14.75189974548283 , test_loss : 3.5017334559935427\n",
            "train loss : 14.741858802591896 , test_loss : 3.499300492314779\n",
            "train loss : 14.731595581620494 , test_loss : 3.4968041184677188\n",
            "train loss : 14.721078596528091 , test_loss : 3.494236616671491\n",
            "train loss : 14.710273848051656 , test_loss : 3.491589641515112\n",
            "train loss : 14.699144546480431 , test_loss : 3.4888541502204795\n",
            "train loss : 14.687650799423716 , test_loss : 3.486020324069772\n",
            "train loss : 14.675749259182963 , test_loss : 3.483077479685073\n",
            "train loss : 14.663392723455747 , test_loss : 3.4800139686451796\n",
            "train loss : 14.650529682074747 , test_loss : 3.4768170636928626\n",
            "train loss : 14.637103801297847 , test_loss : 3.4734728295206154\n",
            "train loss : 14.62305333579827 , test_loss : 3.4699659758221753\n",
            "train loss : 14.608310456930884 , test_loss : 3.4662796899569757\n",
            "train loss : 14.592800484053011 , test_loss : 3.4623954461936592\n",
            "train loss : 14.57644100363515 , test_loss : 3.4582927880764007\n",
            "train loss : 14.559140858595022 , test_loss : 3.453949079995534\n",
            "train loss : 14.540798987726143 , test_loss : 3.449339223549154\n",
            "train loss : 14.521303092281084 , test_loss : 3.444435333766656\n",
            "train loss : 14.500528103761335 , test_loss : 3.439206369752089\n",
            "train loss : 14.478334423845158 , test_loss : 3.4336177138316435\n",
            "train loss : 14.454565904326186 , test_loss : 3.427630692914929\n",
            "train loss : 14.42904753220743 , test_loss : 3.421202035594083\n",
            "train loss : 14.401582783142041 , test_loss : 3.4142832586440472\n",
            "train loss : 14.371950605911266 , test_loss : 3.40681997725044\n",
            "train loss : 14.339902002607959 , test_loss : 3.3987511347669632\n",
            "train loss : 14.305156175170376 , test_loss : 3.3900081505029505\n",
            "train loss : 14.267396221101063 , test_loss : 3.3805139885395543\n",
            "train loss : 14.22626438277243 , test_loss : 3.370182157664001\n",
            "train loss : 14.181356890112157 , test_loss : 3.35891566326392\n",
            "train loss : 14.132218491774811 , test_loss : 3.346605947838838\n",
            "train loss : 14.078336853275294 , test_loss : 3.3331318794256486\n",
            "train loss : 14.019137122407315 , test_loss : 3.3183588787898133\n",
            "train loss : 13.953977135184207 , test_loss : 3.3021383189436113\n",
            "train loss : 13.882143973278305 , test_loss : 3.284307386349684\n",
            "train loss : 13.80285289869791 , test_loss : 3.264689662739729\n",
            "train loss : 13.715250088060905 , test_loss : 3.243096767550505\n",
            "train loss : 13.618421053939658 , test_loss : 3.2193314854984805\n",
            "train loss : 13.511407124853191 , test_loss : 3.1931928738327677\n",
            "train loss : 13.393232746743914 , test_loss : 3.164483866459517\n",
            "train loss : 13.262946461877968 , test_loss : 3.1330218155542884\n",
            "train loss : 13.11967789460869 , test_loss : 3.0986521660255355\n",
            "train loss : 12.962711507918224 , test_loss : 3.0612649724837078\n",
            "train loss : 12.791574886794212 , test_loss : 3.0208132076411824\n",
            "train loss : 12.606134737916543 , test_loss : 2.977330846013384\n",
            "train loss : 12.406688267863869 , test_loss : 2.9309477892362246\n",
            "train loss : 12.194032827078864 , test_loss : 2.881898279782374\n",
            "train loss : 11.96949542917102 , test_loss : 2.830520036636479\n",
            "train loss : 11.734908641532726 , test_loss : 2.777243162683952\n",
            "train loss : 11.49253087430895 , test_loss : 2.722570475108972\n",
            "train loss : 11.244923793805924 , test_loss : 2.6670531560097284\n",
            "train loss : 10.99481076899369 , test_loss : 2.6112662831549662\n",
            "train loss : 10.744942029326765 , test_loss : 2.5557875035095763\n",
            "train loss : 10.497983973181935 , test_loss : 2.5011797347107594\n",
            "train loss : 10.256437242477533 , test_loss : 2.447976821329599\n",
            "train loss : 10.022578084040001 , test_loss : 2.3966705199564737\n",
            "train loss : 9.798414215537441 , test_loss : 2.3476979362504755\n",
            "train loss : 9.585649005411012 , test_loss : 2.3014297519462086\n",
            "train loss : 9.385652572303124 , test_loss : 2.2581604416813628\n",
            "train loss : 9.199442073174998 , test_loss : 2.2181018441345897\n",
            "train loss : 9.027674593003251 , test_loss : 2.1813810318197593\n",
            "train loss : 8.870655012710657 , test_loss : 2.1480427329934044\n",
            "train loss : 8.728359107358319 , test_loss : 2.118055887551823\n",
            "train loss : 8.60046995369895 , test_loss : 2.0913234361648674\n",
            "train loss : 8.486424147055793 , test_loss : 2.0676942002015455\n",
            "train loss : 8.385463573371961 , test_loss : 2.046975685067313\n",
            "train loss : 8.296688498139295 , test_loss : 2.0289467722907766\n",
            "train loss : 8.219108317004004 , test_loss : 2.013369489985679\n",
            "train loss : 8.15168721813778 , test_loss : 1.999999309283921\n",
            "train loss : 8.093383012316965 , test_loss : 1.9885936627544714\n",
            "train loss : 8.043178327330132 , test_loss : 1.9789185923475814\n",
            "train loss : 8.000104137654949 , test_loss : 1.9707535958432838\n",
            "train loss : 7.96325616509485 , test_loss : 1.9638948498911624\n",
            "train loss : 7.931805041708941 , test_loss : 1.9581570495564873\n",
            "train loss : 7.905001300796804 , test_loss : 1.9533741278275443\n",
            "train loss : 7.882176295803475 , test_loss : 1.949399114063926\n",
            "train loss : 7.862740083938234 , test_loss : 1.9461033676227297\n",
            "train loss : 7.84617718972308 , test_loss : 1.9433753900875763\n",
            "train loss : 7.832041014515975 , test_loss : 1.9411193829002242\n",
            "train loss : 7.819947503650926 , test_loss : 1.9392536810937495\n",
            "train loss : 7.809568537750963 , test_loss : 1.9377091609339845\n",
            "train loss : 7.8006253871931825 , test_loss : 1.9364276909838665\n",
            "train loss : 7.79288246213976 , test_loss : 1.9353606728802022\n",
            "train loss : 7.786141505320678 , test_loss : 1.9344676998169046\n",
            "train loss : 7.780236309269947 , test_loss : 1.933715346874665\n",
            "train loss : 7.7750279913832 , test_loss : 1.933076097271133\n",
            "train loss : 7.770400826037387 , test_loss : 1.9325274016326885\n",
            "train loss : 7.766258610196732 , test_loss : 1.9320508628489763\n",
            "train loss : 7.762521524802208 , test_loss : 1.9316315363796408\n",
            "train loss : 7.759123446568633 , test_loss : 1.9312573345471413\n",
            "train loss : 7.756009661758422 , test_loss : 1.9309185229717793\n",
            "train loss : 7.753134933619171 , test_loss : 1.9306072975729376\n",
            "train loss : 7.750461877351625 , test_loss : 1.9303174312379183\n",
            "train loss : 7.747959599892579 , test_loss : 1.9300439801718419\n",
            "train loss : 7.745602565859803 , test_loss : 1.9297830409646854\n",
            "train loss : 7.74336965529704 , test_loss : 1.9295315504592299\n",
            "train loss : 7.741243383103299 , test_loss : 1.9292871215201428\n",
            "train loss : 7.739209254053181 , test_loss : 1.92904790875527\n",
            "train loss : 7.737255231017584 , test_loss : 1.9288124991065827\n",
            "train loss : 7.735371297323539 , test_loss : 1.928579823001869\n",
            "train loss : 7.73354909713772 , test_loss : 1.9283490824385243\n",
            "train loss : 7.731781640327779 , test_loss : 1.9281196929612734\n",
            "train loss : 7.7300630604725225 , test_loss : 1.9278912370030659\n",
            "train loss : 7.728388416587131 , test_loss : 1.9276634264904495\n",
            "train loss : 7.726753530738295 , test_loss : 1.927436072980125\n",
            "train loss : 7.725154855077937 , test_loss : 1.9272090639002981\n",
            "train loss : 7.7235893629614 , test_loss : 1.926982343726885\n",
            "train loss : 7.722054459761781 , test_loss : 1.9267558991378986\n",
            "train loss : 7.720547909779989 , test_loss : 1.9265297473658527\n",
            "train loss : 7.719067776300239 , test_loss : 1.9263039271137523\n",
            "train loss : 7.717612372378549 , test_loss : 1.9260784915198796\n",
            "train loss : 7.716180220393006 , test_loss : 1.9258535027547798\n",
            "train loss : 7.714770018747566 , test_loss : 1.9256290279140924\n",
            "train loss : 7.713380614417999 , test_loss : 1.9254051359361533\n",
            "train loss : 7.71201098027155 , test_loss : 1.925181895326655\n",
            "train loss : 7.710660196289691 , test_loss : 1.9249593725156522\n",
            "train loss : 7.709327433985519 , test_loss : 1.9247376307072979\n",
            "train loss : 7.708011943438397 , test_loss : 1.9245167291108776\n",
            "train loss : 7.706713042475761 , test_loss : 1.9242967224645118\n",
            "train loss : 7.705430107619346 , test_loss : 1.9240776607813173\n",
            "train loss : 7.7041625664831646 , test_loss : 1.923859589262476\n",
            "train loss : 7.702909891369113 , test_loss : 1.923642548333573\n",
            "train loss : 7.7016715938516445 , test_loss : 1.9234265737699752\n",
            "train loss : 7.700447220182071 , test_loss : 1.923211696884616\n",
            "train loss : 7.699236347373017 , test_loss : 1.9229979447575714\n",
            "train loss : 7.698038579849311 , test_loss : 1.9227853404915973\n",
            "train loss : 7.696853546571505 , test_loss : 1.9225739034815716\n",
            "train loss : 7.695680898555252 , test_loss : 1.9223636496888128\n",
            "train loss : 7.69452030672309 , test_loss : 1.922154591913584\n",
            "train loss : 7.693371460036401 , test_loss : 1.9219467400609465\n",
            "train loss : 7.692234063864072 , test_loss : 1.9217401013965316\n",
            "train loss : 7.691107838552121 , test_loss : 1.9215346807899787\n",
            "train loss : 7.689992518164406 , test_loss : 1.9213304809445646\n"
          ],
          "name": "stdout"
        },
        {
          "output_type": "display_data",
          "data": {
            "image/png": "[encoded data removed]",
            "text/plain": [
              "<Figure size 432x288 with 1 Axes>"
            ]
          },
          "metadata": {
            "tags": [],
            "needs_background": "light"
          }
        }
      ]
    },
    {
      "cell_type": "markdown",
      "metadata": {
        "id": "hZU-cNA2qacx"
      },
      "source": [
        "# **Perform backpropagation using autograd and compare the results with previous part.**"
      ]
    },
    {
      "cell_type": "code",
      "metadata": {
        "id": "vjrhoLk-gp6w"
      },
      "source": [
        "def forward_pass_loss(i,W,w,b,c):\n",
        "  a1 = np.dot(i,W)+b  #1x2\n",
        "  h = sigmoid(a1) #1x2\n",
        "  a2 = np.dot(h,w)+c #1x3\n",
        "  x = sigmoid(a2)  #1x3\n",
        "  l = np.sum((i-x)**2)\n",
        "  return l"
      ],
      "execution_count": null,
      "outputs": []
    },
    {
      "cell_type": "code",
      "metadata": {
        "id": "pfumLGt0sEwv"
      },
      "source": [
        "def update_weights(WW,ww,bb,cc,W_update,ww_update,b_update,c_update,n):\n",
        "    w = ww - n * ww_update\n",
        "    b = bb - n * b_update\n",
        "    W = WW - n * W_update\n",
        "    c = cc - n * c_update\n",
        "    return W,w,b,c\n"
      ],
      "execution_count": null,
      "outputs": []
    },
    {
      "cell_type": "code",
      "metadata": {
        "id": "EAhUEBnET3EE"
      },
      "source": [
        "def cal_grad()"
      ],
      "execution_count": null,
      "outputs": []
    },
    {
      "cell_type": "code",
      "metadata": {
        "id": "pqZiM2_JUe-7"
      },
      "source": [
        "def cal_grad_loss(WW,ww,bb,cc,x_train,x_test,epochs,n):\n",
        "  gradient = grad(forward_pass_loss,(1,2,3,4))\n",
        "  train = []\n",
        "  test = []\n",
        "  for j in range(epochs):\n",
        "    train_loss = 0.0\n",
        "    test_loss = 0.0\n",
        "    for i in x_train:\n",
        "      train_loss += forward_pass_loss(i,WW,ww,bb,cc) \n",
        "      W_update,ww_update,b_update,c_update = gradient(i,WW,ww,bb,cc)\n",
        "      WW,ww,bb,cc = update_weights(WW,ww,bb,cc,W_update,ww_update,b_update,c_update,n)\n",
        "    for i in x_test:\n",
        "      test_loss += forward_pass_loss(i,WW,ww,bb,cc)\n",
        "    train.append(train_loss)\n",
        "    test.append(test_loss)\n",
        "  return train,test\n",
        "    \n"
      ],
      "execution_count": null,
      "outputs": []
    },
    {
      "cell_type": "code",
      "metadata": {
        "colab": {
          "base_uri": "https://localhost:8080/",
          "height": 1000
        },
        "id": "WdN8uNvRdfxG",
        "outputId": "b9301602-f0d5-46ae-ed6f-b7446c77b218"
      },
      "source": [
        "#intial values\n",
        "b = [0.01, 0.01]\n",
        "b = np.array(b)\n",
        "W = [[0.01,0.02],[0.01,0.02],[0.01,0.02]]\n",
        "W = np.array(W)\n",
        "w = [[0.01,0.02,0.03],[0.01,0.02,0.03]]\n",
        "w = np.array(w)\n",
        "c = [0.02,0.02,0.02]\n",
        "c = np.array(c)\n",
        "n = 0.1\n",
        "epochs = 200\n",
        "diff_train,diff_test = cal_grad_loss(W,w,b,c,x_train,x_test,epochs,n)\n",
        "print_loss(diff_train,diff_test,epochs)\n",
        "print_graph(diff_train,diff_test,epochs)"
      ],
      "execution_count": null,
      "outputs": [
        {
          "output_type": "stream",
          "text": [
            "train loss : 98.36155999173266 , test_loss : 26.419468705042412\n",
            "train loss : 98.31788352847082 , test_loss : 26.416761906332756\n",
            "train loss : 98.12664891800331 , test_loss : 26.331201948229605\n",
            "train loss : 97.00860256424312 , test_loss : 25.738255111783108\n",
            "train loss : 92.1705566760851 , test_loss : 23.55566747850442\n",
            "train loss : 79.50274767379985 , test_loss : 18.797543338686154\n",
            "train loss : 57.396531965510235 , test_loss : 12.155653848829713\n",
            "train loss : 35.603044650511826 , test_loss : 7.476329940382669\n",
            "train loss : 23.73540012806695 , test_loss : 5.4092351444351285\n",
            "train loss : 19.08661995717321 , test_loss : 4.62184179462628\n",
            "train loss : 17.429147035869423 , test_loss : 4.315756125355376\n",
            "train loss : 16.818081718062025 , test_loss : 4.183786938162689\n",
            "train loss : 16.56462323492889 , test_loss : 4.118019257826345\n",
            "train loss : 16.439513396468268 , test_loss : 4.080025082625339\n",
            "train loss : 16.36546627660906 , test_loss : 4.05513638300767\n",
            "train loss : 16.31457091240939 , test_loss : 4.037134605582335\n",
            "train loss : 16.27552360257448 , test_loss : 4.023074194887082\n",
            "train loss : 16.24312852411841 , test_loss : 4.01142549126247\n",
            "train loss : 16.214738913016497 , test_loss : 4.001338067672223\n",
            "train loss : 16.18891042438355 , test_loss : 3.9923141569904717\n",
            "train loss : 16.164819497247887 , test_loss : 3.984049899137169\n",
            "train loss : 16.14198211190766 , test_loss : 3.9763528664169367\n",
            "train loss : 16.120106822700954 , test_loss : 3.969097078742719\n",
            "train loss : 16.099014063602155 , test_loss : 3.962197483932659\n",
            "train loss : 16.078590379528766 , test_loss : 3.955594976576227\n",
            "train loss : 16.058761870375545 , test_loss : 3.9492473301217577\n",
            "train loss : 16.039478524239318 , test_loss : 3.943123555711992\n",
            "train loss : 16.02070486028888 , test_loss : 3.93720030601616\n",
            "train loss : 16.00241429017288 , test_loss : 3.93145953214029\n",
            "train loss : 15.984585699691756 , test_loss : 3.9258869266548975\n",
            "train loss : 15.967201369248846 , test_loss : 3.920470870226628\n",
            "train loss : 15.950245707250517 , test_loss : 3.9152017069744804\n",
            "train loss : 15.933704479324058 , test_loss : 3.910071238074982\n",
            "train loss : 15.917564340458886 , test_loss : 3.905072362546672\n",
            "train loss : 15.901812552000084 , test_loss : 3.900198818734573\n",
            "train loss : 15.88643681091063 , test_loss : 3.8954449956309003\n",
            "train loss : 15.871425146574675 , test_loss : 3.890805793242133\n",
            "train loss : 15.856765857564094 , test_loss : 3.8862765178050447\n",
            "train loss : 15.842447471385373 , test_loss : 3.8818528020269576\n",
            "train loss : 15.828458716781157 , test_loss : 3.8775305434624356\n",
            "train loss : 15.814788502212837 , test_loss : 3.8733058561354974\n",
            "train loss : 15.801425896649686 , test_loss : 3.869175031889601\n",
            "train loss : 15.788360110316747 , test_loss : 3.8651345089026674\n",
            "train loss : 15.775580473977636 , test_loss : 3.861180845475114\n",
            "train loss : 15.763076415872154 , test_loss : 3.8573106976749134\n",
            "train loss : 15.750837435738834 , test_loss : 3.8535207997637384\n",
            "train loss : 15.738853075514852 , test_loss : 3.8498079465731236\n",
            "train loss : 15.72711288637627 , test_loss : 3.8461689771764935\n",
            "train loss : 15.715606391794996 , test_loss : 3.842600759330594\n",
            "train loss : 15.704323046266113 , test_loss : 3.839100174251745\n",
            "train loss : 15.693252189310638 , test_loss : 3.83566410135737\n",
            "train loss : 15.682382994295775 , test_loss : 3.8322894026478562\n",
            "train loss : 15.671704411536536 , test_loss : 3.828972906432728\n",
            "train loss : 15.661205105053298 , test_loss : 3.825711390121412\n",
            "train loss : 15.650873382260214 , test_loss : 3.8225015618046587\n",
            "train loss : 15.640697115744912 , test_loss : 3.8193400403496662\n",
            "train loss : 15.63066365617464 , test_loss : 3.8162233337208598\n",
            "train loss : 15.620759735219046 , test_loss : 3.8131478152197884\n",
            "train loss : 15.610971357217222 , test_loss : 3.8101096973115727\n",
            "train loss : 15.601283678132305 , test_loss : 3.8071050026719475\n",
            "train loss : 15.591680870121847 , test_loss : 3.804129532047412\n",
            "train loss : 15.582145969808765 , test_loss : 3.8011788284706975\n",
            "train loss : 15.572660708053586 , test_loss : 3.7982481373135526\n",
            "train loss : 15.563205318699596 , test_loss : 3.795332361587473\n",
            "train loss : 15.553758323379396 , test_loss : 3.7924260118185003\n",
            "train loss : 15.544296289023494 , test_loss : 3.7895231497225668\n",
            "train loss : 15.534793554186653 , test_loss : 3.786617324790385\n",
            "train loss : 15.525221919690946 , test_loss : 3.7837015027523044\n",
            "train loss : 15.515550298358482 , test_loss : 3.7807679847302693\n",
            "train loss : 15.505744317750507 , test_loss : 3.777808315691116\n",
            "train loss : 15.495765868815862 , test_loss : 3.774813180587954\n",
            "train loss : 15.485572592157895 , test_loss : 3.7717722863078618\n",
            "train loss : 15.47511729221022 , test_loss : 3.768674227227246\n",
            "train loss : 15.464347267940298 , test_loss : 3.765506331803191\n",
            "train loss : 15.453203546721774 , test_loss : 3.7622544871905066\n",
            "train loss : 15.441620005690451 , test_loss : 3.7589029383607686\n",
            "train loss : 15.429522362166162 , test_loss : 3.7554340576011604\n",
            "train loss : 15.416827011537768 , test_loss : 3.7518280795793832\n",
            "train loss : 15.403439687323488 , test_loss : 3.748062796368954\n",
            "train loss : 15.389253913903541 , test_loss : 3.7441132059364413\n",
            "train loss : 15.374149217684653 , test_loss : 3.7399511066060582\n",
            "train loss : 15.357989057252665 , test_loss : 3.7355446289613643\n",
            "train loss : 15.340618427566044 , test_loss : 3.7308576955670283\n",
            "train loss : 15.321861087751271 , test_loss : 3.72584939788417\n",
            "train loss : 15.30151635714929 , test_loss : 3.7204732789578556\n",
            "train loss : 15.279355420864237 , test_loss : 3.7146765101122208\n",
            "train loss : 15.255117085678375 , test_loss : 3.708398950361885\n",
            "train loss : 15.228502932110045 , test_loss : 3.701572079084272\n",
            "train loss : 15.199171822024612 , test_loss : 3.694117796487606\n",
            "train loss : 15.16673374847569 , test_loss : 3.68594709366427\n",
            "train loss : 15.130743062200187 , test_loss : 3.6769586060345265\n",
            "train loss : 15.090691186477272 , test_loss : 3.667037082672093\n",
            "train loss : 15.045999050178372 , test_loss : 3.6560518316173543\n",
            "train loss : 14.996009640485585 , test_loss : 3.643855240160143\n",
            "train loss : 14.939981313761304 , test_loss : 3.6302815210044566\n",
            "train loss : 14.877082811528503 , test_loss : 3.6151459003044786\n",
            "train loss : 14.806391300452725 , test_loss : 3.598244538347223\n",
            "train loss : 14.726895155939982 , test_loss : 3.579355548759369\n",
            "train loss : 14.63750356225344 , test_loss : 3.5582415398316756\n",
            "train loss : 14.537065178948305 , test_loss : 3.5346541151865796\n",
            "train loss : 14.424397947726211 , test_loss : 3.5083407085463523\n",
            "train loss : 14.298331402545898 , test_loss : 3.4790539622760046\n",
            "train loss : 14.157761498439925 , test_loss : 3.446563588651055\n",
            "train loss : 14.00171609670753 , test_loss : 3.4106703150089204\n",
            "train loss : 13.829427239538907 , test_loss : 3.3712211915885852\n",
            "train loss : 13.640404861534751 , test_loss : 3.328125330113243\n",
            "train loss : 13.434506221774448 , test_loss : 3.281369091348043\n",
            "train loss : 13.211996228096393 , test_loss : 3.231029801241683\n",
            "train loss : 12.973595358779262 , test_loss : 3.1772871130747253\n",
            "train loss : 12.720512965130597 , test_loss : 3.120431026912752\n",
            "train loss : 12.454463503979037 , test_loss : 3.0608653414439075\n",
            "train loss : 12.177661808536959 , test_loss : 2.9991051266807998\n",
            "train loss : 11.892792012597232 , test_loss : 2.9357669139833784\n",
            "train loss : 11.602944715173134 , test_loss : 2.8715508542787376\n",
            "train loss : 11.311519365968502 , test_loss : 2.807215059937551\n",
            "train loss : 11.02209353127342 , test_loss : 2.7435435174336558\n",
            "train loss : 10.738266547070987 , test_loss : 2.6813100612255423\n",
            "train loss : 10.463490495233494 , test_loss : 2.621241680487783\n",
            "train loss : 10.200904963919076 , test_loss : 2.5639847145062205\n",
            "train loss : 9.953192707452763 , test_loss : 2.5100772103325206\n",
            "train loss : 9.722470877422502 , test_loss : 2.459929914063198\n",
            "train loss : 9.51022749572713 , test_loss : 2.4138172003607745\n",
            "train loss : 9.317306418788524 , test_loss : 2.3718779453302625\n",
            "train loss : 9.143937599362639 , test_loss : 2.3341251654966935\n",
            "train loss : 8.989804252599386 , test_loss : 2.300462382886574\n",
            "train loss : 8.854135384240095 , test_loss : 2.27070424043401\n",
            "train loss : 8.73581125458864 , test_loss : 2.2445988821272826\n",
            "train loss : 8.6334704157144 , test_loss : 2.221849940390734\n",
            "train loss : 8.54560932840521 , test_loss : 2.202136505278468\n",
            "train loss : 8.470668510843934 , test_loss : 2.1851300493838046\n",
            "train loss : 8.407102069149376 , test_loss : 2.170507840119882\n",
            "train loss : 8.353429893306737 , test_loss : 2.1579628200322274\n",
            "train loss : 8.308273573957392 , test_loss : 2.1472102495301346\n",
            "train loss : 8.27037818792452 , test_loss : 2.1379915891846455\n",
            "train loss : 8.238622608625455 , test_loss : 2.130076173164737\n",
            "train loss : 8.212021068462597 , test_loss : 2.1232612212755657\n",
            "train loss : 8.189718486114055 , test_loss : 2.1173706835867083\n",
            "train loss : 8.17098170306546 , test_loss : 2.11225333299573\n",
            "train loss : 8.155188348869611 , test_loss : 2.107780434964028\n",
            "train loss : 8.141814638624506 , test_loss : 2.103843241529269\n",
            "train loss : 8.130423036353209 , test_loss : 2.1003504848579135\n",
            "train loss : 8.120650411043226 , test_loss : 2.0972259866443945\n",
            "train loss : 8.112197071049136 , test_loss : 2.094406453757877\n",
            "train loss : 8.104816882343593 , test_loss : 2.09183949646741\n",
            "train loss : 8.098308547774135 , test_loss : 2.089481881486285\n",
            "train loss : 8.092508037924764 , test_loss : 2.087298015954078\n",
            "train loss : 8.087282109681418 , test_loss : 2.0852586484307354\n",
            "train loss : 8.082522817683218 , test_loss : 2.083339767380214\n",
            "train loss : 8.078142909551515 , test_loss : 2.0815216751443155\n",
            "train loss : 8.074071992691081 , test_loss : 2.079788215019203\n",
            "train loss : 8.070253364468739 , test_loss : 2.0781261299759177\n",
            "train loss : 8.066641405740036 , test_loss : 2.076524533255589\n",
            "train loss : 8.063199447950982 , test_loss : 2.0749744731334547\n",
            "train loss : 8.059898035008864 , test_loss : 2.0734685763248124\n",
            "train loss : 8.056713511914376 , test_loss : 2.0720007566372938\n",
            "train loss : 8.053626882253551 , test_loss : 2.070565977461095\n",
            "train loss : 8.050622885788309 , test_loss : 2.069160058481902\n",
            "train loss : 8.047689255449184 , test_loss : 2.067779518581611\n",
            "train loss : 8.04481612001588 , test_loss : 2.066421448259296\n",
            "train loss : 8.04199552473069 , test_loss : 2.065083406072133\n",
            "train loss : 8.039221047114184 , test_loss : 2.063763334580696\n",
            "train loss : 8.036487489453544 , test_loss : 2.062459492106564\n",
            "train loss : 8.033790632913067 , test_loss : 2.0611703972938598\n",
            "train loss : 8.03112704108488 , test_loss : 2.0598947840300093\n",
            "train loss : 8.02849390314604 , test_loss : 2.058631564743911\n",
            "train loss : 8.025888908703632 , test_loss : 2.0573798004777806\n",
            "train loss : 8.023310147964663 , test_loss : 2.0561386764367358\n",
            "train loss : 8.020756032126908 , test_loss : 2.054907481970293\n",
            "train loss : 8.01822522990307 , test_loss : 2.0536855941422116\n",
            "train loss : 8.01571661690905 , test_loss : 2.052472464208656\n",
            "train loss : 8.013229235304147 , test_loss : 2.051267606456711\n",
            "train loss : 8.010762261599064 , test_loss : 2.0500705889614665\n",
            "train loss : 8.008314980968532 , test_loss : 2.048881025905523\n",
            "train loss : 8.00588676674424 , test_loss : 2.0476985711735574\n",
            "train loss : 8.003477064032488 , test_loss : 2.046522912989905\n",
            "train loss : 8.001085376616334 , test_loss : 2.045353769411659\n",
            "train loss : 7.998711256473511 , test_loss : 2.0441908845253645\n",
            "train loss : 7.996354295378205 , test_loss : 2.0430340252242862\n",
            "train loss : 7.994014118163095 , test_loss : 2.0418829784662638\n",
            "train loss : 7.9916903773048675 , test_loss : 2.0407375489307578\n",
            "train loss : 7.989382748565536 , test_loss : 2.0395975570087135\n",
            "train loss : 7.9870909274761095 , test_loss : 2.0384628370709494\n",
            "train loss : 7.984814626493055 , test_loss : 2.0373332359705287\n",
            "train loss : 7.982553572692538 , test_loss : 2.0362086117424822\n",
            "train loss : 7.980307505894826 , test_loss : 2.035088832470653\n",
            "train loss : 7.978076177133361 , test_loss : 2.033973775296631\n",
            "train loss : 7.975859347400035 , test_loss : 2.032863325549984\n",
            "train loss : 7.973656786612407 , test_loss : 2.0317573759823926\n",
            "train loss : 7.971468272759271 , test_loss : 2.03065582609124\n",
            "train loss : 7.9692935911900324 , test_loss : 2.029558581520363\n",
            "train loss : 7.967132534020014 , test_loss : 2.0284655535277576\n",
            "train loss : 7.964984899629711 , test_loss : 2.027376658511421\n",
            "train loss : 7.962850492239924 , test_loss : 2.0262918175859888\n",
            "train loss : 7.960729121548937 , test_loss : 2.0252109562038028\n",
            "train loss : 7.958620602419904 , test_loss : 2.0241340038149582\n",
            "train loss : 7.956524754609631 , test_loss : 2.023060893561716\n",
            "train loss : 7.954441402530927 , test_loss : 2.0219915620031865\n",
            "train loss : 7.952370375043128 , test_loss : 2.0209259488669016\n",
            "train loss : 7.950311505265252 , test_loss : 2.019863996824069\n",
            "train loss : 7.948264630408648 , test_loss : 2.0188056512860544\n"
          ],
          "name": "stdout"
        },
        {
          "output_type": "display_data",
          "data": {
            "image/png": "[encoded data removed]",
            "text/plain": [
              "<Figure size 432x288 with 1 Axes>"
            ]
          },
          "metadata": {
            "tags": [],
            "needs_background": "light"
          }
        }
      ]
    }
  ]
}